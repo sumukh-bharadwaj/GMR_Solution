{
  "cells": [
    {
      "cell_type": "markdown",
      "id": "927cca99",
      "metadata": {
        "deletable": false,
        "editable": false,
        "id": "927cca99"
      },
      "source": [
        "# TSP Genetic Algorithm"
      ]
    },
    {
      "cell_type": "markdown",
      "id": "1549a90e",
      "metadata": {
        "id": "1549a90e"
      },
      "source": [
        "## Problem Statement\n",
        "\n",
        "You are given a list of destinations in Los Angeles along with their latitude and longitude (in degrees). Your goal is to visit all the destinations and return to your starting location efficiently (as defined by an objective function that we will specify and you will implement). The first location in the list read in from the text file is LAX, which will be your starting and finishing location.\n",
        "\n",
        "You may recognize this problem setup as the Traveling Salesman Problem which is NP-Hard. You may be able to design an algorithm (i.e. brute force) for the list of locations we give you that computes the globally optimal solution and that has a tractible runtime. However, that algorithm won't scale.\n",
        "\n",
        "Just because we can't find optimal solutions to problems like this doesn't mean we can disregard them. Real-world problems frequently map to setups like TSP, so different algorithmic strategies to tackle them have emerged, including genetic algorithms (also approximation algorithms, annealing, etc...)\n",
        "\n",
        "Your challenge is to implement and assemble the components of a genetic algorithm which can be used to provide \"good\" albeit not optimal solutions for efficiently traversing our graph of Los Angeles."
      ]
    },
    {
      "cell_type": "markdown",
      "id": "8831b836",
      "metadata": {
        "deletable": false,
        "editable": false,
        "id": "8831b836"
      },
      "source": [
        "## Genetic Algorithms Overview\n",
        "\n",
        "Genetic Algorithms are a method for solving optimization problems based on natural selection. It tracks pretty closely to the tenets of Darwinism. In Darwinism, given some variation in genetic traits for some population, the members of that species with desirable genetic traits will survive more often and reproduce more, passing those genetics down, and thus, over generations, the desirable genetics will have larger market share.\n",
        "\n",
        "The basic setup of a genetic algorithm is largely the same. Given some NP-hard problem, we don't assume to have any intuition about the \"desirable traits\" of a potential solution, so we generate some initial set of candidate solutions randomly. These solutions are a set of valid paths that begin at LAX, visit every node, and don't visit any node more than once*. \n",
        "\n",
        "This set of candidate solutions is called the **population**.\n",
        "\n",
        "Each solution in the population is a **member**.\n",
        "\n",
        "The number of members in a population is the **population size**.\n",
        "\n",
        "Genetic algorithms undergo some specified number of iterations. Each iteration works with its own population (each with the same number of members). In the initial iteration, the members of a population are generated randomly.\n",
        "\n",
        "Once you've generated your initial population, you need to evaluate the quality of each member (i.e. each candidate solution). This metric is called a member's **fitness**.\n",
        "\n",
        "The more fit a member of a population is, the more likely it is to have substructure (i.e. genetic traits) that would improve other solutions (i.e. there may be a 4 node subsequence of that path that is very efficient even if it's a completely random shuffle).\n",
        "\n",
        "Understanding the quality of each solution allows us to refine our strategy for generating new solutions. While the initial population was randomly generated, each member in a subsequent population is assembled as a composite of two members of the preceeding generation. Instead of choosing those two parents randomly, we can incorporate our grading of the current members fitnesses into the selection process and thus pass on preferable \"genes\". \n",
        "\n",
        "Genetic algorithms have heuristics for spawning the next generation's population from the current population:\n",
        "\n",
        "1. Each member of the new generation is the offspring of two member's of the current population. \n",
        "2. More fit members of the current generation are more likely to be selected as parents for the new generation's population members\n",
        "3. After both parents complete encoding a child, that child's genes (i.e. the new solution) may mutate. Mutation is a random event that modifies the child's genes (\"solution\"). In our case, mutation will simply be swapping the positions of two nodes in the child's path (i.e the child's solution) (the indices of those nodes will also be random).\n",
        "4. When creating a child, each parent will pass on at least 1 element (\"gene\") of its solution, but there is no guarantee about the relative concentration of one parent's \"genes\" vs the other parent's \"genes\" in the offspring.**\n",
        "5. Once both are selected, the relative fitness of one parent compared to the other has no weight in determining their share of the child's \"genes\"**\n",
        "6. The order in which parents insert their \"genes\" into the child is random and also agnostic to their relative fitness**\n",
        "\n",
        "The important concepts to understand are the first 3 items of that list. The exact mechanism through which two parents' solutions merge into a child's solution (1) will be explained when you go to implement it (our method isn't that complicated).\n",
        "\n",
        "Mutation is a useful tactic both in evolution and in genetic algorithms. In evolution, mutation helps promote genetic diversity (i.e. so everyone doesn't converge to the same genetic makeup) and can introduce new traits that may be beneficial. In genetic algorithms, it serves an analogous purpose. Over generations, populations can start to converge, where members of a population can become similar and in turn produce a population of increasingly similar offspring in the next generation. If there's no countermeasure for this, your algorithm may converge to a local maxima before exploring much of the state space. Not only can mutation help prevent this, but the initial population that was randomly generated may be concentrated in a small portion of the state space. Injecting noise when creating subsequent populations can be beneficial in that case.\n",
        "\n",
        "\\* The last leg of any path is returning back to LAX but that isn't factored in until later (it'll make sense when you get to that point in the assignment). \n",
        "\n",
        "\\** The last 3 points are implementation details more than conceptually important. It will make more sense once you get there"
      ]
    },
    {
      "cell_type": "markdown",
      "id": "3e511f82",
      "metadata": {
        "id": "3e511f82"
      },
      "source": [
        "## Notebook Overview\n",
        "- Run the first block to import several requirements for this project.\n",
        "    - **typing** is used to provide type annotations to every function you are required to implement. Deviating from the input / output specifications will make it very difficult to then combine the various components at the end and should be avoided\n",
        "    - **random** is the Python language module for random number generation and sampling distributions. We pass a seed to the random number generator so that we can get consistent results and replicate your work. random defaults to the system time without a seed. **Please don't reseed random**\n",
        "    - **unittest** is used to provide a couple unit tests that you can use to check your implementation before integrating it into larger functions. The more substantial, top-level functions don't include unit tests because those are unwieldy to write.\n",
        "    - **utils** includes several class definitions and utility functions we provide for you to use\n",
        "- You can view the implementations of Location, FitnessPair, and ParentPair in **utils.py**. You will use all three so you need to be familiar with them"
      ]
    },
    {
      "cell_type": "code",
      "source": [
        "!wget -q \"https://drive.google.com/uc?export=download&id=1MJAG0spB3vlOF7-0C-G9Zl2SI8qPWl4U\" -O GA_startercode.zip\n",
        "!unzip -qq GA_startercode.zip"
      ],
      "metadata": {
        "id": "Xmmb7_XsnCG5",
        "colab": {
          "base_uri": "https://localhost:8080/"
        },
        "outputId": "db40bce0-208b-4e9f-dffc-6d7a86d0abf1"
      },
      "id": "Xmmb7_XsnCG5",
      "execution_count": null,
      "outputs": [
        {
          "output_type": "stream",
          "name": "stdout",
          "text": [
            "replace utils.py? [y]es, [n]o, [A]ll, [N]one, [r]ename: y\n",
            "replace input/locations.txt? [y]es, [n]o, [A]ll, [N]one, [r]ename: A\n"
          ]
        }
      ]
    },
    {
      "cell_type": "code",
      "execution_count": null,
      "id": "16226211",
      "metadata": {
        "id": "16226211"
      },
      "outputs": [],
      "source": [
        "from typing import List\n",
        "import random\n",
        "import unittest\n",
        "\n",
        "from utils import Location, FitnessPair, ParentPair\n",
        "\n",
        "random.seed(42)"
      ]
    },
    {
      "cell_type": "markdown",
      "id": "f45738e9",
      "metadata": {
        "id": "f45738e9"
      },
      "source": [
        "## Algorithm Parameters\n",
        "\n",
        "There are 3 major configurable parameters for this algorithm:\n",
        "\n",
        "1. **num_generations** is the number of generations (i.e. number of iterations the algorithm executes, each time creating a new population of candidate solutions). Note: num_generations doesn't count generating the initial population randomly as an iteration\n",
        "2. **population_size** is the size of the population (i.e. number of candidate solutions every generation)\n",
        "3. **mutation_probability** is the probability that a newly created child will be mutated (no more than once per child)\n",
        "\n",
        "**filename** is the relative path to the file with the list of locations. It's a headerless csv file that follows the pattern:\n",
        "\n",
        "Name, Latitude, Longitude\n",
        "\n",
        "with latitude and longitude given in degrees, not radians.\n",
        "\n",
        "If you want to swap in your own file, make sure to follow that convention."
      ]
    },
    {
      "cell_type": "code",
      "execution_count": null,
      "id": "028199fc",
      "metadata": {
        "id": "028199fc"
      },
      "outputs": [],
      "source": [
        "population_size = 10\n",
        "num_generations = 50\n",
        "mutation_probability = 0.6\n",
        "filename = './input/locations.txt'\n",
        "solution, score = [], None"
      ]
    },
    {
      "cell_type": "markdown",
      "id": "10b5a914",
      "metadata": {
        "id": "10b5a914"
      },
      "source": [
        "## Setup\n",
        "\n",
        "The below cell reads in the locations from the file with the path *filename* and then generates an initial population of size *population_size*. **population** is a list of lists, with each inner list providing a valid solution, traversing all the locations. The path is given as a series of integers, which correspond to indexes in the locations list "
      ]
    },
    {
      "cell_type": "code",
      "execution_count": null,
      "id": "88565b71",
      "metadata": {
        "id": "88565b71",
        "colab": {
          "base_uri": "https://localhost:8080/"
        },
        "outputId": "789c07d1-af84-4972-93ac-22dfba545f41"
      },
      "outputs": [
        {
          "output_type": "stream",
          "name": "stdout",
          "text": [
            "LAX Airport\n",
            "[[0, 15, 14, 5, 10, 6, 16, 18, 7, 13, 17, 11, 2, 12, 3, 19, 8, 9, 1, 4], [0, 15, 9, 4, 12, 11, 17, 2, 13, 6, 19, 3, 1, 5, 10, 16, 8, 14, 7, 18], [0, 15, 14, 19, 6, 11, 3, 5, 10, 7, 2, 16, 8, 17, 1, 13, 9, 18, 12, 4], [0, 1, 13, 16, 11, 9, 19, 12, 6, 17, 5, 7, 15, 4, 14, 18, 10, 8, 2, 3], [0, 13, 12, 14, 10, 19, 15, 2, 1, 16, 4, 9, 11, 5, 7, 17, 18, 8, 6, 3], [0, 10, 1, 2, 15, 9, 13, 6, 14, 4, 12, 5, 3, 8, 18, 17, 16, 19, 11, 7], [0, 14, 8, 10, 6, 19, 9, 4, 15, 7, 12, 11, 18, 2, 1, 13, 3, 16, 17, 5], [0, 17, 10, 14, 12, 16, 15, 19, 8, 3, 7, 5, 2, 6, 11, 13, 9, 4, 1, 18], [0, 2, 4, 11, 16, 14, 18, 19, 8, 15, 1, 12, 9, 3, 13, 6, 5, 7, 17, 10], [0, 15, 7, 1, 4, 6, 5, 12, 10, 19, 11, 17, 9, 13, 2, 14, 16, 18, 3, 8]]\n"
          ]
        }
      ],
      "source": [
        "from utils import generate_initial_population, parse_locations\n",
        "\n",
        "# you can print both of these for clarity if you want\n",
        "\n",
        "locations = parse_locations(filename) # List[Location]\n",
        "print(locations[0].name)\n",
        "\n",
        "population = generate_initial_population(population_size, len(locations)) # List[List[int]]\n",
        "print(population)"
      ]
    },
    {
      "cell_type": "markdown",
      "id": "782a52d0",
      "metadata": {
        "id": "782a52d0"
      },
      "source": [
        "## Fitness\n",
        "\n",
        "For fitness, we will use the Haversine distance formula to compute the distance between each step on the path:\n",
        "\n",
        "$ 𝛿 lon = lon_{2} - lon_{1} $\n",
        "\n",
        "$ 𝛿 lat = lat_{2} - lat_{1} $\n",
        "\n",
        "$ a = (sin(\\frac{𝛿 lat}{2}))^{2} + cos(lat_{1}) cos(lat_{2}) (sin(\\frac{𝛿 lon}{2}))^{2} $\n",
        "\n",
        "$ c = 2 \\times atan2(\\sqrt{a}, \\sqrt{1-a}) $\n",
        "\n",
        "$ distance = 3961 c $\n",
        "\n",
        "**Important Note**: The latitude and longitude values provided by the input file are in degrees, not radians, but this formula requires radians. The convenience function *convert_to_radians* is provided to you. Refer to **utils.py** for details on usage"
      ]
    },
    {
      "cell_type": "code",
      "execution_count": null,
      "id": "3fca490d",
      "metadata": {
        "id": "3fca490d"
      },
      "outputs": [],
      "source": [
        "from utils import convert_to_radians\n",
        "import math # Will be required to implement calculate_haversine_distance\n",
        "\n",
        "def calculate_haversine_distance(loc_1: Location, loc_2: Location) -> float:\n",
        "    R = 3961  # radius of the Earth in miles\n",
        "    lat_1, lon_1 = convert_to_radians(loc_1).latitude, convert_to_radians(loc_1).longitude\n",
        "    lat_2, lon_2 = convert_to_radians(loc_2).latitude, convert_to_radians(loc_2).longitude\n",
        "    delta_lon = lon_2 - lon_1\n",
        "    delta_lat = lat_2 - lat_1\n",
        "    a = (math.sin(delta_lat/2))**2 + math.cos(lat_1) * math.cos(lat_2) * (math.sin(delta_lon/2))**2\n",
        "    c = 2 * math.atan2(math.sqrt(a), math.sqrt(1-a))\n",
        "    distance = R * c\n",
        "    return distance\n"
      ]
    },
    {
      "cell_type": "markdown",
      "id": "a0ea8b6c",
      "metadata": {
        "id": "a0ea8b6c"
      },
      "source": [
        "You can verify your implementation of the haversine distance function by running the cell below"
      ]
    },
    {
      "cell_type": "code",
      "execution_count": null,
      "id": "94da078d",
      "metadata": {
        "scrolled": false,
        "id": "94da078d",
        "colab": {
          "base_uri": "https://localhost:8080/"
        },
        "outputId": "9ace476f-45f2-4c05-e780-18f1df97f317"
      },
      "outputs": [
        {
          "output_type": "stream",
          "name": "stderr",
          "text": [
            "..\n",
            "----------------------------------------------------------------------\n",
            "Ran 2 tests in 0.011s\n",
            "\n",
            "OK\n"
          ]
        }
      ],
      "source": [
        "class TestHaversine(unittest.TestCase):\n",
        "    def setUp(self):\n",
        "        self.location_1 = Location(\"test1\", 40.0, 50.0)\n",
        "        self.location_2 = Location(\"test2\", 20.0, 30.0)\n",
        "        \n",
        "    def test_calculate_haversine_distance_same_location(self):\n",
        "        self.assertEqual(0.0, calculate_haversine_distance(self.location_1, self.location_1))\n",
        "\n",
        "    def test_calculate_haversine_distance_different_locations(self):\n",
        "        answer = calculate_haversine_distance(self.location_1, self.location_2)\n",
        "        self.assertEqual(1820.0246, round(answer, 4))\n",
        "        \n",
        "if __name__ == '__main__':\n",
        "    unittest.main(argv=['first-arg-is-ignored'], exit=False)"
      ]
    },
    {
      "cell_type": "markdown",
      "id": "38dee87f",
      "metadata": {
        "id": "38dee87f"
      },
      "source": [
        "Calculate the fitness of a population member by computing the haversine distance between each stop on the path. Don't forget to include the distance from the last location on the path back to LAX to complete the cycle"
      ]
    },
    {
      "cell_type": "code",
      "execution_count": null,
      "id": "99adb799",
      "metadata": {
        "id": "99adb799"
      },
      "outputs": [],
      "source": [
        "def calculate_member_fitness(pop_member: List[int], locs: List[Location]) -> float:\n",
        "    total_distance = 0.0\n",
        "    # pop_member = [0]+pop_member+[0]\n",
        "    for i in range(len(pop_member)-1):\n",
        "        current_loc = locs[pop_member[i]]\n",
        "        next_loc = locs[pop_member[i+1]]\n",
        "        total_distance += calculate_haversine_distance(current_loc, next_loc)\n",
        "        print(total_distance)\n",
        "    # add distance back to LAX\n",
        "    total_distance += calculate_haversine_distance(locs[pop_member[-1]], locs[pop_member[0]])\n",
        "    return total_distance\n"
      ]
    },
    {
      "cell_type": "code",
      "execution_count": null,
      "id": "ac3ab446",
      "metadata": {
        "id": "ac3ab446",
        "colab": {
          "base_uri": "https://localhost:8080/"
        },
        "outputId": "45ff3426-dd80-40eb-c4ab-158bdcd930e0"
      },
      "outputs": [
        {
          "output_type": "stream",
          "name": "stderr",
          "text": [
            "...\n",
            "----------------------------------------------------------------------\n",
            "Ran 3 tests in 0.011s\n",
            "\n",
            "OK\n"
          ]
        },
        {
          "output_type": "stream",
          "name": "stdout",
          "text": [
            "0.7158387593963031\n",
            "13.821165508138849\n",
            "28.899147652667427\n",
            "40.411476899677176\n",
            "61.877303170247146\n"
          ]
        }
      ],
      "source": [
        "class TestMemberFitness(unittest.TestCase):\n",
        "    def setUp(self):\n",
        "        self.locations = parse_locations('./input/test_locs.txt')\n",
        "        self.member = [2,1,0,3,5,4]\n",
        "        \n",
        "    def test_calculate_member_fitness(self):\n",
        "        self.assertEqual(82.8071, round(calculate_member_fitness(self.member, self.locations), 4))\n",
        "        \n",
        "if __name__ == '__main__':\n",
        "    unittest.main(argv=['first-arg-is-ignored'], exit=False)"
      ]
    },
    {
      "cell_type": "markdown",
      "id": "a33c81bf",
      "metadata": {
        "id": "a33c81bf"
      },
      "source": [
        "Implement the following function which should compute the fitness of each member of the population. \n",
        "\n",
        "The output should be a list of FitnessPairs. The FitnessPair id corresponds to the index of that member in the population list, and the FitnessPair fitness is that member's fitness score. We use this data structure because later we will sort by fitness but you'll still need to know which member of the population a score corresponds to.\n",
        "\n",
        "Before you return this list, sort it so that FitnessPair with the best fitness score is at the front. Remember that a **low** fitness score is a good one, so you'd return a list with scores in **ascending** order"
      ]
    },
    {
      "cell_type": "code",
      "execution_count": null,
      "id": "50a59be0",
      "metadata": {
        "id": "50a59be0"
      },
      "outputs": [],
      "source": [
        "def calculate_population_fitness(population: List[List[int]], locs: List[Location]) -> List[FitnessPair]:\n",
        "    fitness_scores = []\n",
        "    for idx, member in enumerate(population):\n",
        "        fitness_score = calculate_member_fitness(member, locs)\n",
        "        fitness_scores.append(FitnessPair(idx, fitness_score))\n",
        "    fitness_scores.sort()\n",
        "    return fitness_scores\n"
      ]
    },
    {
      "cell_type": "markdown",
      "id": "01fa63c7",
      "metadata": {
        "id": "01fa63c7"
      },
      "source": [
        "## Selection\n",
        "\n",
        "Now that we've computed the fitness of each member of the population and sorted the results, we can implement a strategy for selecting parents with better genetics (i.e. solutions) to produce more \"fit\" children in the next generation.\n",
        "\n",
        "Parent selection is probabilistic, but we will tilt the odds to favor the fitter members of the population. \n",
        "\n",
        "The following function, *generate_fitness_probability_vector*, takes the list returned from the previous function and uses it to assign a probability to each population member (the probability they will be selected on any given parent selection event). \n",
        "\n",
        "Implement the following:\n",
        "1. Create a list with size n = # of population members and assign each element in the list to 1.0/n, giving a uniform distribution\n",
        "2. Note that the indices in this vector should correspond to the individual’s population index number (so this most will likely not be sorted by fitness). The first element corresponds to the first population member, not the member with the best fitness score (unless that is the first population member)\n",
        "3. The two individuals with the highest fitness scores should have their probability multiplied by 6.0.\n",
        "4. The remainder of the top half of the fit individuals (eg. from rank 2 to rank size / 2 – 1) should have their probability multiplied by 3.0.\n",
        "5. Note that step 4 is rounding down. For example, if the population had 7 members, the two most fit would be multiplied by 6 and the third most fit multiplied by 3 BUT NOT THE FOURTH\n",
        "6. Renormalize the probability vector to sum to 1\n",
        "7. Return the normalized vector (referred to subsequently as **fitness_probs**)"
      ]
    },
    {
      "cell_type": "code",
      "execution_count": null,
      "id": "740ed094",
      "metadata": {
        "id": "740ed094"
      },
      "outputs": [],
      "source": [
        "def generate_fitness_probability_vector(population_fitness: List[FitnessPair]) -> List[float]:\n",
        "    # Sort population by fitness score\n",
        "    n = len(population_fitness)\n",
        "    fitness_probs = [1.0 / n] * n\n",
        "    sorted_pop = sorted(population_fitness, key=lambda x: x.fitness)\n",
        "\n",
        "    # Multiply probabilities for top individuals\n",
        "    if len(sorted_pop) >= 1:\n",
        "        fitness_probs[sorted_pop[0].id] *= 6.0\n",
        "    if len(sorted_pop) >= 2:\n",
        "        fitness_probs[sorted_pop[1].id] *= 6.0\n",
        "\n",
        "    # Multiply probabilities for remainder of top half\n",
        "    top_half_end = max(2, (n // 2))\n",
        "    for i in range(2, top_half_end):\n",
        "        fitness_probs[sorted_pop[i].id] *= 3.0\n",
        "\n",
        "    # Renormalize probability vector\n",
        "    total_prob = sum(fitness_probs)\n",
        "    fitness_probs = [x / total_prob for x in fitness_probs]\n",
        "\n",
        "    return fitness_probs\n"
      ]
    },
    {
      "cell_type": "markdown",
      "id": "4a63e8a4",
      "metadata": {
        "id": "4a63e8a4"
      },
      "source": [
        "You can verify your implementation of the generate_fitness_probability_vector function by running the cell below"
      ]
    },
    {
      "cell_type": "code",
      "execution_count": null,
      "id": "2ad49d74",
      "metadata": {
        "id": "2ad49d74",
        "colab": {
          "base_uri": "https://localhost:8080/"
        },
        "outputId": "71e1aaba-4b83-450c-8e24-30168967845d"
      },
      "outputs": [
        {
          "output_type": "stream",
          "name": "stderr",
          "text": [
            "....\n",
            "----------------------------------------------------------------------\n",
            "Ran 4 tests in 0.007s\n",
            "\n",
            "OK\n"
          ]
        },
        {
          "output_type": "stream",
          "name": "stdout",
          "text": [
            "0.7158387593963031\n",
            "13.821165508138849\n",
            "28.899147652667427\n",
            "40.411476899677176\n",
            "61.877303170247146\n"
          ]
        }
      ],
      "source": [
        "class TestFitnessProbabilityVector(unittest.TestCase):\n",
        "    def setUp(self):\n",
        "        self.test_input = []\n",
        "        self.test_input.append(FitnessPair(2,  60.02))\n",
        "        self.test_input.append(FitnessPair(1,  60.23))\n",
        "        self.test_input.append(FitnessPair(0,  63.90))\n",
        "        self.test_input.append(FitnessPair(5,  77.38))\n",
        "        self.test_input.append(FitnessPair(4,  78.22))\n",
        "        self.test_input.append(FitnessPair(3,  81.43))\n",
        "        self.ground_truth = [0.167, 0.333, 0.333, 0.056, 0.056, 0.056]\n",
        "        \n",
        "    def test_generate_fitness_probability_vector_(self):\n",
        "        answer = generate_fitness_probability_vector(self.test_input)\n",
        "        for i in range(6):\n",
        "            self.assertEqual(self.ground_truth[i], round(answer[i], 3))\n",
        "        \n",
        "if __name__ == '__main__':\n",
        "    unittest.main(argv=['first-arg-is-ignored'], exit=False)"
      ]
    },
    {
      "cell_type": "markdown",
      "id": "6a03ddd7",
      "metadata": {
        "id": "6a03ddd7"
      },
      "source": [
        "Now we will use this distribution, **fitness_probs**, to select a single parent. First, lets consider this hypothetical input vector:\n",
        "\n",
        "[.1, .4, .1, .4]\n",
        "\n",
        "What this input translates to is that the population member at index 0 has a 10% chance of being selected, the population member at index 1 has a 40% chance of being selected, the population member at index 2 has a 10% chance of being selected, and the population member at index 3 has a 40% chance of being selected.\n",
        "\n",
        "**select_parent** will randomly select an index, and the population member at that index will be the selected parent.\n",
        "\n",
        "First, select_parent should generate a random float between 0 and 1\n",
        "\n",
        "The algorithm for picking an index is simple. Starting at index 0, you perform a running sum of\n",
        "the probability. If at any index, the running sum becomes >= the random float, you select that\n",
        "individual.\n",
        "\n",
        "For example, suppose the random double is 0.55. So:\n",
        "- At index 0, running sum = 0.10, continue\n",
        "- At index 1, running sum = 0.50, continue\n",
        "- At index 2, running sum = 0.60, >= 0.55, so select index 2\n",
        "\n",
        "So in the above example, the following ranges of random values would select each individual:\n",
        "- Individual 0 = [0, 0.10]\n",
        "- Individual 1 = (0.10, 0.50]\n",
        "- Individual 2 = (0.50, 0.60]\n",
        "- Individual 3 = (0.60, 1.00]"
      ]
    },
    {
      "cell_type": "code",
      "execution_count": null,
      "id": "f120827f",
      "metadata": {
        "scrolled": true,
        "id": "f120827f",
        "colab": {
          "base_uri": "https://localhost:8080/"
        },
        "outputId": "f131db5a-314f-4970-f68c-1686134c877d"
      },
      "outputs": [
        {
          "output_type": "stream",
          "name": "stdout",
          "text": [
            "2\n"
          ]
        }
      ],
      "source": [
        "def select_parent(fitness_probs: List[float]) -> int:\n",
        "    r = random.uniform(0, 1)\n",
        "    prob_sum = 0.0\n",
        "    i=0\n",
        "    for p in fitness_probs:\n",
        "        prob_sum += p\n",
        "        if prob_sum >= r:\n",
        "            return i\n",
        "        i+=1\n",
        "    return len(fitness_probs) - 1\n",
        "\n",
        "s=select_parent([0.1,0.4,0.1])\n",
        "print(s)"
      ]
    },
    {
      "cell_type": "markdown",
      "id": "adcd6f98",
      "metadata": {
        "id": "adcd6f98"
      },
      "source": [
        "Taking the output from *generate_fitness_probability_vector*, **fitness_probs**, as input, we need to select *n* pairs of parents, where *n* is the size of the population. These *n* pairs of parents will then be used to create the next generation's *n* population members.\n",
        "\n",
        "This function should return a list of ParentPair (a class defined in utils). Each parent in a pair should be selected independently (i.e. using its own random float threshold."
      ]
    },
    {
      "cell_type": "code",
      "execution_count": null,
      "id": "4aa71f2b",
      "metadata": {
        "id": "4aa71f2b",
        "colab": {
          "base_uri": "https://localhost:8080/"
        },
        "outputId": "0f007c53-f36e-4515-f927-68b51f53ac78"
      },
      "outputs": [
        {
          "output_type": "execute_result",
          "data": {
            "text/plain": [
              "[Parents: 1, 1, Parents: 1, 0, Parents: 2, 1]"
            ]
          },
          "metadata": {},
          "execution_count": 58
        }
      ],
      "source": [
        "def select_parents(fitness_probs: List[float]) -> List[ParentPair]:\n",
        "    parent_pairs = []\n",
        "    for i in range(len(fitness_probs)):\n",
        "        parent1_idx = select_parent(fitness_probs)\n",
        "        parent2_idx = select_parent(fitness_probs)\n",
        "        parent_pairs.append(ParentPair(parent1_idx, parent2_idx))\n",
        "    return parent_pairs\n",
        "\n",
        "select_parents([0.1,0.4,0.1])"
      ]
    },
    {
      "cell_type": "markdown",
      "id": "3ba1d828",
      "metadata": {
        "id": "3ba1d828"
      },
      "source": [
        "## Crossover\n",
        "\n",
        "The crossover function takes two parent popu       fit                             lation members (each is a list of ints from the population 2d list) and create a child population member. The float mutation_prob [0.0,1.0] is the probability of doing a mutation on that child population member.\n",
        "\n",
        "Implement the following crossover procedure:\n",
        "1. Generate a random crossover index value from [1, size –2]\n",
        "2. Generate a random 0 or 1 (simulate a coin toss). If it’s a 1, parent_pop_1 goes first. If it’s a 0, parent_pop_2 goes first.\n",
        "3. Selected first parent will copy all elements from beginning up to and including crossover index into child\n",
        "4. Second parent will start at the beginning (of its list, not the childs), and append all elements that don’t already appear in the child\n",
        "5. Generate a random float, *x*, between 0 and 1\n",
        "6. If *x* <= mutation_prob, then mutate. If *x* > mutation_prob, don't mutate\n",
        "\n",
        "Implement the following mutation procedure:\n",
        "1. Generate a random int *a* [1, size-1]\n",
        "2. Generate a random int *b* [1, size-1]\n",
        "3. Swap the elements at those two indices in the child population\n",
        "\n",
        "**Note**: You may find it helpful to add a helper function or two to avoid repeated code / improve readability. If you choose to do so, you can either create additional cells or include them in the **crossover** celkkl"
      ]
    },
    {
      "cell_type": "code",
      "execution_count": null,
      "id": "0c82b291",
      "metadata": {
        "id": "0c82b291"
      },
      "outputs": [],
      "source": [
        "def crossover(parent_pop_1: List[int], parent_pop_2: List[int], mutation_prob: float) -> List[int]:\n",
        "    \n",
        "    size = len(parent_pop_1)\n",
        "    crossover_index = random.randint(1, size-2)\n",
        "    coin_toss = random.randint(0,1)\n",
        "    if coin_toss == 1:\n",
        "        child = parent_pop_1[:crossover_index+1]\n",
        "        for element in parent_pop_2:\n",
        "            if element not in child:\n",
        "                child.append(element)\n",
        "    else:\n",
        "        child = parent_pop_2[:crossover_index+1]\n",
        "        for element in parent_pop_1:\n",
        "            if element not in child:\n",
        "                child.append(element)\n",
        "                \n",
        "    x = random.uniform(0,1)\n",
        "    if x <= mutation_prob:\n",
        "        child = mutation(child)\n",
        "        \n",
        "    return child\n",
        "\n",
        "def mutation(child_pop: List[int]) -> List[int]:\n",
        "    a, b = random.sample(range(1, len(child_pop)), 2)\n",
        "    child_pop[a], child_pop[b] = child_pop[b], child_pop[a]\n",
        "    \n",
        "    return child_pop"
      ]
    },
    {
      "cell_type": "markdown",
      "id": "4db0c754",
      "metadata": {
        "id": "4db0c754"
      },
      "source": [
        "The generate_new_population function takes the current population, the list of parent pairs, and the mutation probability as input to generate a new population for the next generation of the algorithm. It does so by iterating over the list of parent pairs, looking up their corresponding entries in the population, and then spawning a child population member with crossover"
      ]
    },
    {
      "cell_type": "code",
      "execution_count": null,
      "id": "6a238705",
      "metadata": {
        "id": "6a238705"
      },
      "outputs": [],
      "source": [
        "def generate_new_population(population: List[List[int]], parent_selections: List[ParentPair], mutation_prob: float) -> List[List[int]]:\n",
        "    new_population = []\n",
        "    for pair in parent_selections:\n",
        "        parent_1 = population[pair.parent_1_index]\n",
        "        parent_2 = population[pair.parent_2_index]\n",
        "        child = crossover(parent_1, parent_2, mutation_prob)\n",
        "        new_population.append(child)\n",
        "    return new_population\n"
      ]
    },
    {
      "cell_type": "markdown",
      "id": "05954de0",
      "metadata": {
        "id": "05954de0"
      },
      "source": [
        "## Genetic Algorithm\n",
        "\n",
        "Using some subset of the functions you've implemented above, fill in the parts of the algorithm marked TODO.\n",
        "\n",
        "**Note**: Make sure that you've run all previous cells before running the below cell to ensure that every function the genetic algorithm needs is available"
      ]
    },
    {
      "cell_type": "code",
      "execution_count": 74,
      "id": "5c8a38eb",
      "metadata": {
        "id": "5c8a38eb",
        "colab": {
          "base_uri": "https://localhost:8080/",
          "height": 1000
        },
        "outputId": "7931ffee-3792-4aa9-f3d8-fcac48b7479b"
      },
      "outputs": [
        {
          "output_type": "stream",
          "name": "stdout",
          "text": [
            "37.82749128229451\n",
            "78.83197536706044\n",
            "85.20647482237727\n",
            "95.52371936670662\n",
            "111.47585112010641\n",
            "128.51868118283497\n",
            "133.76495583405205\n",
            "164.25591252101367\n",
            "200.29150643727857\n",
            "215.47989290154848\n",
            "221.76327501176434\n",
            "230.27754379953308\n",
            "263.7571326670425\n",
            "290.4811916901306\n",
            "318.6838549371361\n",
            "359.9596267898981\n",
            "363.72533918287496\n",
            "375.56723549843105\n",
            "383.0928682248241\n",
            "37.82749128229451\n",
            "92.70413215750452\n",
            "106.10317637348412\n",
            "132.19869935460088\n",
            "157.76160520974594\n",
            "164.0449873199618\n",
            "168.91898220034656\n",
            "180.89138730743636\n",
            "185.2916751293168\n",
            "200.1825123480993\n",
            "228.38517559510484\n",
            "234.85405727509894\n",
            "246.35994664076256\n",
            "256.6771911850919\n",
            "262.2237019554719\n",
            "272.8042209541283\n",
            "295.60846170113484\n",
            "329.6045580756813\n",
            "360.09551476264295\n",
            "37.82749128229451\n",
            "78.83197536706044\n",
            "98.93842794637415\n",
            "113.82926516515667\n",
            "129.0365840570379\n",
            "131.51814603786846\n",
            "139.3077877080321\n",
            "149.62503225236142\n",
            "180.07391052559032\n",
            "205.43701411077672\n",
            "207.7591434659876\n",
            "218.339662464644\n",
            "226.54200427623428\n",
            "230.97007063144903\n",
            "243.08941445831704\n",
            "264.4391927292378\n",
            "277.1300402672925\n",
            "305.69100222028845\n",
            "331.7865252014052\n",
            "8.917052227102195\n",
            "21.036396053970215\n",
            "34.31438198171537\n",
            "41.33074527628738\n",
            "50.33528066312274\n",
            "89.14197793464359\n",
            "120.26024634577094\n",
            "146.56288301776533\n",
            "165.22683216875149\n",
            "178.59111910571073\n",
            "215.347720374977\n",
            "255.95558681544\n",
            "304.11122393082064\n",
            "312.929797341856\n",
            "321.56258957321603\n",
            "326.48514246807554\n",
            "337.14729088782804\n",
            "349.8670783534238\n",
            "356.658244198735\n",
            "7.215260222546594\n",
            "36.073396812777254\n",
            "67.27647462230622\n",
            "80.76757817526767\n",
            "111.48406768796094\n",
            "160.3701821900839\n",
            "203.81516934922797\n",
            "204.28010057519384\n",
            "206.150720542984\n",
            "213.69056312488453\n",
            "227.08960734086415\n",
            "236.0941427276995\n",
            "245.6370536268393\n",
            "282.3936548961056\n",
            "308.18145352279083\n",
            "314.7887711942946\n",
            "329.3018550547895\n",
            "355.7185939876713\n",
            "369.1149147841148\n",
            "13.696961471201748\n",
            "20.523703758351346\n",
            "20.988634984317226\n",
            "64.43362214346128\n",
            "119.3102630186713\n",
            "140.66004128959202\n",
            "145.06032911147244\n",
            "151.75458279082858\n",
            "160.57315620186392\n",
            "186.66867918298067\n",
            "211.69344956855306\n",
            "219.4830912387167\n",
            "232.57590110587472\n",
            "247.0889849663696\n",
            "253.6963026378734\n",
            "256.2554565342922\n",
            "288.0997124118137\n",
            "317.91634425542173\n",
            "349.98521806917\n",
            "4.790480494336629\n",
            "27.59472124134315\n",
            "38.25686966109562\n",
            "54.20900141449542\n",
            "69.09983863327793\n",
            "107.90653590479879\n",
            "121.30558012077839\n",
            "169.46121723615903\n",
            "210.06908367662203\n",
            "267.5552529647278\n",
            "293.11815881987286\n",
            "298.3523384010926\n",
            "303.5250742259289\n",
            "303.9900054518948\n",
            "316.1093492787628\n",
            "326.82564256064126\n",
            "332.686947608638\n",
            "335.24610150505674\n",
            "348.610388442016\n",
            "13.21482231165797\n",
            "17.877225927551216\n",
            "31.36832948051267\n",
            "62.571407290041634\n",
            "95.03632142722765\n",
            "140.6599902468149\n",
            "189.5461047489379\n",
            "230.8218766016999\n",
            "243.91468646885792\n",
            "275.33642401605135\n",
            "312.09302528531765\n",
            "323.62555701663496\n",
            "339.6423324182423\n",
            "354.84965131012353\n",
            "367.7765524688627\n",
            "389.12633073978344\n",
            "402.525374955763\n",
            "410.05100768215607\n",
            "415.05684583561003\n",
            "8.536962838754516\n",
            "16.249613015323266\n",
            "20.987523682445527\n",
            "28.003886977017537\n",
            "40.44405129579814\n",
            "49.076843527158175\n",
            "76.02009397487224\n",
            "117.29586582763423\n",
            "170.93022503821587\n",
            "214.83519742939217\n",
            "248.01740912723173\n",
            "278.59743099882917\n",
            "289.32974743789674\n",
            "300.0460407197752\n",
            "304.44632854165565\n",
            "310.11117125219226\n",
            "346.86777252145856\n",
            "372.6555711481438\n",
            "377.31797476403705\n",
            "37.82749128229451\n",
            "78.43535772275752\n",
            "103.92411512779515\n",
            "111.4497478541882\n",
            "122.16852613620347\n",
            "127.8333688467401\n",
            "152.85813923231248\n",
            "180.0175925972775\n",
            "210.73408210997079\n",
            "240.55071395357882\n",
            "246.83409606379468\n",
            "254.24851660240472\n",
            "275.5982948733255\n",
            "287.57069998041527\n",
            "298.36641558823567\n",
            "310.80657990701627\n",
            "316.0528545582333\n",
            "318.8219517718471\n",
            "331.9147616390051\n"
          ]
        },
        {
          "output_type": "error",
          "ename": "AttributeError",
          "evalue": "ignored",
          "traceback": [
            "\u001b[0;31m---------------------------------------------------------------------------\u001b[0m",
            "\u001b[0;31mAttributeError\u001b[0m                            Traceback (most recent call last)",
            "\u001b[0;32m<ipython-input-74-bec9a2e5ac8d>\u001b[0m in \u001b[0;36m<cell line: 3>\u001b[0;34m()\u001b[0m\n\u001b[1;32m     13\u001b[0m \u001b[0;34m\u001b[0m\u001b[0m\n\u001b[1;32m     14\u001b[0m         \u001b[0;31m# TODO: Generate new population\u001b[0m\u001b[0;34m\u001b[0m\u001b[0;34m\u001b[0m\u001b[0m\n\u001b[0;32m---> 15\u001b[0;31m         \u001b[0mnew_genz\u001b[0m\u001b[0;34m=\u001b[0m \u001b[0mgenerate_new_population\u001b[0m\u001b[0;34m(\u001b[0m\u001b[0mpopulation\u001b[0m\u001b[0;34m,\u001b[0m\u001b[0;34m[\u001b[0m\u001b[0;36m0.1\u001b[0m\u001b[0;34m,\u001b[0m\u001b[0;36m0.4\u001b[0m\u001b[0;34m,\u001b[0m\u001b[0;36m0.1\u001b[0m\u001b[0;34m]\u001b[0m\u001b[0;34m,\u001b[0m\u001b[0mmutation_prob\u001b[0m\u001b[0;34m=\u001b[0m\u001b[0;36m0.5\u001b[0m\u001b[0;34m)\u001b[0m\u001b[0;34m\u001b[0m\u001b[0;34m\u001b[0m\u001b[0m\n\u001b[0m\u001b[1;32m     16\u001b[0m     \u001b[0;32melse\u001b[0m\u001b[0;34m:\u001b[0m\u001b[0;34m\u001b[0m\u001b[0;34m\u001b[0m\u001b[0m\n\u001b[1;32m     17\u001b[0m         \u001b[0;31m# Choose the top result in the population fitnesses list as your solution\u001b[0m\u001b[0;34m\u001b[0m\u001b[0;34m\u001b[0m\u001b[0m\n",
            "\u001b[0;32m<ipython-input-60-bb1ebce110a1>\u001b[0m in \u001b[0;36mgenerate_new_population\u001b[0;34m(population, parent_selections, mutation_prob)\u001b[0m\n\u001b[1;32m      2\u001b[0m     \u001b[0mnew_population\u001b[0m \u001b[0;34m=\u001b[0m \u001b[0;34m[\u001b[0m\u001b[0;34m]\u001b[0m\u001b[0;34m\u001b[0m\u001b[0;34m\u001b[0m\u001b[0m\n\u001b[1;32m      3\u001b[0m     \u001b[0;32mfor\u001b[0m \u001b[0mpair\u001b[0m \u001b[0;32min\u001b[0m \u001b[0mparent_selections\u001b[0m\u001b[0;34m:\u001b[0m\u001b[0;34m\u001b[0m\u001b[0;34m\u001b[0m\u001b[0m\n\u001b[0;32m----> 4\u001b[0;31m         \u001b[0mparent_1\u001b[0m \u001b[0;34m=\u001b[0m \u001b[0mpopulation\u001b[0m\u001b[0;34m[\u001b[0m\u001b[0mpair\u001b[0m\u001b[0;34m.\u001b[0m\u001b[0mparent_1_index\u001b[0m\u001b[0;34m]\u001b[0m\u001b[0;34m\u001b[0m\u001b[0;34m\u001b[0m\u001b[0m\n\u001b[0m\u001b[1;32m      5\u001b[0m         \u001b[0mparent_2\u001b[0m \u001b[0;34m=\u001b[0m \u001b[0mpopulation\u001b[0m\u001b[0;34m[\u001b[0m\u001b[0mpair\u001b[0m\u001b[0;34m.\u001b[0m\u001b[0mparent_2_index\u001b[0m\u001b[0;34m]\u001b[0m\u001b[0;34m\u001b[0m\u001b[0;34m\u001b[0m\u001b[0m\n\u001b[1;32m      6\u001b[0m         \u001b[0mchild\u001b[0m \u001b[0;34m=\u001b[0m \u001b[0mcrossover\u001b[0m\u001b[0;34m(\u001b[0m\u001b[0mparent_1\u001b[0m\u001b[0;34m,\u001b[0m \u001b[0mparent_2\u001b[0m\u001b[0;34m,\u001b[0m \u001b[0mmutation_prob\u001b[0m\u001b[0;34m)\u001b[0m\u001b[0;34m\u001b[0m\u001b[0;34m\u001b[0m\u001b[0m\n",
            "\u001b[0;31mAttributeError\u001b[0m: 'float' object has no attribute 'parent_1_index'"
          ]
        }
      ],
      "source": [
        "from utils import validate_solution\n",
        "\n",
        "for i in range(num_generations+1):\n",
        "    # TODO: Calculate population fitnesses\n",
        "    fitn= calculate_population_fitness(population,locations)\n",
        "    # continue iterating with GA\n",
        "    if i != num_generations:\n",
        "        # TODO: Get fitness probability vectors\n",
        "        fit_prob= generate_fitness_probability_vector(fitn)\n",
        "\n",
        "        # TODO: Get parent selections\n",
        "        par_sel = select_parent(fit_prob)\n",
        "\n",
        "        # TODO: Generate new population\n",
        "        new_genz= generate_new_population(population,[0.1,0.4,0.1],mutation_prob=0.5)\n",
        "    else:\n",
        "        # Choose the top result in the population fitnesses list as your solution\n",
        "        # TODO: Retrieve that solution from the population along with its fitness score\n",
        "        best_prob = fitn.index(max(fitn))\n",
        "        solution, score = population[best_prob], fitn[best_prob]\n",
        "        # Check if solution is valid\n",
        "        is_valid_solution = validate_solution(solution, score, locations)\n",
        "        if is_valid_solution:\n",
        "            print('Success!')\n",
        "            print('Score: ', score)\n",
        "            solution_locs = [locations[i] for i in solution]\n",
        "            print('Solution: ', solution_locs)\n",
        "        else:\n",
        "            print('Solution invalid')"
      ]
    },
    {
      "cell_type": "code",
      "source": [],
      "metadata": {
        "id": "xeg4BXRzZpS7"
      },
      "id": "xeg4BXRzZpS7",
      "execution_count": null,
      "outputs": []
    }
  ],
  "metadata": {
    "celltoolbar": "Raw Cell Format",
    "kernelspec": {
      "display_name": "Python 3.8.10 64-bit",
      "language": "python",
      "name": "python3"
    },
    "language_info": {
      "codemirror_mode": {
        "name": "ipython",
        "version": 3
      },
      "file_extension": ".py",
      "mimetype": "text/x-python",
      "name": "python",
      "nbconvert_exporter": "python",
      "pygments_lexer": "ipython3",
      "version": "3.8.10"
    },
    "vscode": {
      "interpreter": {
        "hash": "31f2aee4e71d21fbe5cf8b01ff0e069b9275f58929596ceb00d14d90e3e16cd6"
      }
    },
    "colab": {
      "provenance": []
    }
  },
  "nbformat": 4,
  "nbformat_minor": 5
}